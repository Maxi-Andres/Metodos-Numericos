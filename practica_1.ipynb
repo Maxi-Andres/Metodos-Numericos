{
 "cells": [
  {
   "attachments": {
    "image.png": {
     "image/png": "[encoded data removed]"
    }
   },
   "cell_type": "markdown",
   "id": "b86a3309",
   "metadata": {},
   "source": [
    "1 – Emplear el método de bisección y hacer los primeros 3 pasos, con el fin de aproximar una raíz para cada una de las siguientes funciones, cuando sea posible usarlo. Para las funciones en las cuales no se pueda usar, justificar.\n",
    "\n",
    "![image.png](attachment:image.png)"
   ]
  },
  {
   "cell_type": "code",
   "execution_count": 3,
   "id": "336a638f",
   "metadata": {},
   "outputs": [
    {
     "name": "stdout",
     "output_type": "stream",
     "text": [
      "\n",
      "Iteración\t a\t\t c\t\t b\t\t f(c)\n",
      "---------------------------------------------------------------------------\n",
      "0\t\t -2.000000\t 2.500000\t 7.000000\t 16.625000\n",
      "1\t\t -2.000000\t 0.250000\t 2.500000\t 1.015625\n",
      "2\t\t -2.000000\t -0.875000\t 0.250000\t 0.330078\n",
      "3\t\t -2.000000\t -1.437500\t -0.875000\t -1.970459\n",
      "4\t\t -1.437500\t -1.156250\t -0.875000\t -0.545807\n",
      "5\t\t -1.156250\t -1.015625\t -0.875000\t -0.047611\n",
      "6\t\t -1.015625\t -0.945312\t -0.875000\t 0.155254\n",
      "7\t\t -1.015625\t -0.980469\t -0.945312\t 0.057457\n",
      "8\t\t -1.015625\t -0.998047\t -0.980469\t 0.005848\n",
      "9\t\t -1.015625\t -1.006836\t -0.998047\t -0.020648\n",
      "10\t\t -1.006836\t -1.002441\t -0.998047\t -0.007342\n",
      "11\t\t -1.002441\t -1.000244\t -0.998047\t -0.000733\n",
      "12\t\t -1.000244\t -0.999146\t -0.998047\t 0.002561\n",
      "13\t\t -1.000244\t -0.999695\t -0.999146\t 0.000915\n",
      "14\t\t -1.000244\t -0.999969\t -0.999695\t 0.000092\n",
      "15\t\t -1.000244\t -1.000107\t -0.999969\t -0.000320\n",
      "16\t\t -1.000107\t -1.000038\t -0.999969\t -0.000114\n",
      "\n",
      "Se alcanzó la precisión requerida.\n",
      "\n",
      "La raíz aproximada es: -1.0000038146972656\n"
     ]
    }
   ],
   "source": [
    "from math import e, sin, sqrt\n",
    "\n",
    "# def f(x): return sqrt(x) # no tiene imagen negativa y el domino es x ≥ 0 no sepuede usar biseccion\n",
    "def f(x): return x**3 + 1 \n",
    "# def f(x): return x**3 - x + 1\n",
    "# def f(x): return e**(-x) - sin(x)\n",
    "# def f(x): return 2 / x # discontinua en x = 0 y no tiene raices\n",
    "# def f(x): return abs(x + 5) # no tiene imagen negativa no sepuede usar biseccion\n",
    "# def f(x): return 2*x + 3\n",
    "\n",
    "def biseccion(a, b, epsilon, maxStep):\n",
    "    Fa = f(a)\n",
    "    Fb = f(b)\n",
    "    \n",
    "    if Fa * Fb >= 0:\n",
    "        print(\"Error: f(a) y f(b) deben tener signos opuestos.\") # si lo evaluas y ambos son positivos o negativos es que no hay raiz entre ellos\n",
    "        return None\n",
    "\n",
    "    step = 0\n",
    "    print(\"\\nIteración\\t a\\t\\t c\\t\\t b\\t\\t f(c)\")\n",
    "    print(\"---------------------------------------------------------------------------\")\n",
    "    while (b - a >= epsilon) and (step < maxStep):\n",
    "        c = (a + b) / 2\n",
    "        Fc = f(c) # esto asi lo evaluo menos\n",
    "        \n",
    "        print(f\"{step}\\t\\t {a:.6f}\\t {c:.6f}\\t {b:.6f}\\t {Fc:.6f}\")\n",
    "        \n",
    "        if Fc == 0 or (b - a) < epsilon:\n",
    "            print(f\"\\nSe encontró una raíz (o se alcanzó la precisión) en el paso {step}.\")\n",
    "            return c\n",
    "        elif Fc * Fa < 0: # cuidado con esto porque se puede hacer muy grande\n",
    "            b = c\n",
    "        else:\n",
    "            a = c\n",
    "\n",
    "        step += 1\n",
    "\n",
    "    if(step == maxStep):\n",
    "        print(f\"\\nSe alcanzó el máximo número de pasos ({maxStep})\")\n",
    "    else:\n",
    "        print(f\"\\nSe alcanzó la precisión requerida.\")\n",
    "    return (a + b) / 2 # devuelvo el punto medio del rango si es mas chico que el epsilon y no encontre la raiz\n",
    "\n",
    "# Parametros\n",
    "a = -2\n",
    "b = 7\n",
    "epsilon = 0.0001\n",
    "maxStep = 100\n",
    "\n",
    "# Cálculo y resultado\n",
    "raiz = biseccion(a, b, epsilon, maxStep)\n",
    "if raiz is not None:\n",
    "    print(f\"\\nLa raíz aproximada es: {raiz}\")\n"
   ]
  },
  {
   "cell_type": "markdown",
   "id": "e902d827",
   "metadata": {},
   "source": [
    "2 – Elegir una f del ejercicio anterior tal que pueda usarse bisección, y aproximar una raíz de f\n",
    "con un error tal que tenga los primeros 2 decimales correctos. "
   ]
  },
  {
   "cell_type": "code",
   "execution_count": 15,
   "id": "ffb6781f",
   "metadata": {},
   "outputs": [
    {
     "name": "stdout",
     "output_type": "stream",
     "text": [
      "\n",
      "Iteración\t a\t\t c\t\t b\t\t f(c)\n",
      "---------------------------------------------------------------------------\n",
      "0\t\t -1.500000\t 0.250000\t 2.000000\t 1.015625\n",
      "1\t\t -1.500000\t -0.625000\t 0.250000\t 0.755859\n",
      "2\t\t -1.500000\t -1.062500\t -0.625000\t -0.199463\n",
      "3\t\t -1.062500\t -0.843750\t -0.625000\t 0.399323\n",
      "4\t\t -1.062500\t -0.953125\t -0.843750\t 0.134136\n",
      "5\t\t -1.062500\t -1.007812\t -0.953125\t -0.023621\n",
      "6\t\t -1.007812\t -0.980469\t -0.953125\t 0.057457\n",
      "7\t\t -1.007812\t -0.994141\t -0.980469\t 0.017475\n",
      "8\t\t -1.007812\t -1.000977\t -0.994141\t -0.002933\n",
      "9\t\t -1.000977\t -0.997559\t -0.994141\t 0.007306\n",
      "10\t\t -1.000977\t -0.999268\t -0.997559\t 0.002196\n",
      "11\t\t -1.000977\t -1.000122\t -0.999268\t -0.000366\n",
      "\n",
      "Se alcanzó la precisión requerida.\n",
      "\n",
      "La raíz aproximada es: -0.99969482421875\n"
     ]
    }
   ],
   "source": [
    "from math import e, sin, sqrt\n",
    "\n",
    "# def f(x): return sqrt(x) # no tiene imagen negativa y el domino es x ≥ 0 no sepuede usar biseccion\n",
    "def f(x): return x**3 + 1 \n",
    "# def f(x): return x**3 - x + 1\n",
    "# def f(x): return e**(-x) - sin(x)\n",
    "# def f(x): return 2 / x # discontinua en x = 0 y no tiene raices\n",
    "# def f(x): return abs(x + 5) # no tiene imagen negativa no sepuede usar biseccion\n",
    "# def f(x): return 2*x + 3\n",
    "\n",
    "# Parametros\n",
    "a = -1.5\n",
    "b = 2\n",
    "epsilon = 0.001\n",
    "maxStep = 100\n",
    "\n",
    "# Cálculo y resultado\n",
    "raiz = biseccion(a, b, epsilon, maxStep)\n",
    "if raiz is not None:\n",
    "    print(f\"\\nLa raíz aproximada es: {raiz}\")\n"
   ]
  },
  {
   "cell_type": "markdown",
   "id": "2993c0e9",
   "metadata": {},
   "source": [
    "3 – Aproximar una raíz cada una de las funciones del ejercicio 1 usando el método de Newton, cuando sea posible usarlo. Para las funciones en las cuales no se pueda usar, justificar. "
   ]
  },
  {
   "cell_type": "markdown",
   "id": "8fbdbd36",
   "metadata": {},
   "source": [
    "El método de Newton-Raphson, que requiere:\n",
    "\n",
    "Que la función sea **derivable** en el intervalo.\n",
    "\n",
    "Que se pueda calcular su **derivada**.\n",
    "\n",
    "Un valor inicial **x0** tal que **f'(x0) ≠ 0**."
   ]
  },
  {
   "cell_type": "code",
   "execution_count": null,
   "id": "66f3923f",
   "metadata": {},
   "outputs": [
    {
     "name": "stdout",
     "output_type": "stream",
     "text": [
      "\n",
      "Iteración\t x\t\t f(x)\t\t f'(x)\t\t x1\n",
      "----------------------------------------------------------------------------\n",
      "0\t\t-7.000000\t-342.000000\t147.000000\t-4.673469\n",
      "1\t\t-4.673469\t-101.074722\t65.523948\t-3.130908\n",
      "2\t\t-3.130908\t-29.690987\t29.407752\t-2.121277\n",
      "3\t\t-2.121277\t-8.545350\t13.499443\t-1.488261\n",
      "4\t\t-1.488261\t-2.296384\t6.644767\t-1.142669\n",
      "5\t\t-1.142669\t-0.491973\t3.917075\t-1.017072\n",
      "6\t\t-1.017072\t-0.052094\t3.103304\t-1.000285\n",
      "7\t\t-1.000285\t-0.000855\t3.001710\t-1.000000\n",
      "8\t\t-1.000000\t-0.000000\t3.000000\t-1.000000\n",
      "Raíz aproximada encontrada: -1.0000000000000067\n",
      "\n",
      "Raíz aproximada: -1.0000000000000067\n"
     ]
    }
   ],
   "source": [
    "def f(x): return x**3 + 1\n",
    "def df(x): return 3*x**2\n",
    "\n",
    "# metodo tangencial\n",
    "def newton(x0, epsilon, maxStep):\n",
    "    print(\"\\nIteración\\t x\\t\\t f(x)\\t\\t f'(x)\\t\\t x1\")\n",
    "    print(\"----------------------------------------------------------------------------\")\n",
    "\n",
    "    for i in range(maxStep):\n",
    "        fx = f(x0)\n",
    "        dfx = df(x0)\n",
    "\n",
    "        if dfx == 0:\n",
    "            print(f\"Derivada nula en x = {x0}. No se puede continuar.\")\n",
    "            return None\n",
    "\n",
    "        x1 = x0 - fx / dfx\n",
    "\n",
    "        print(f\"{i}\\t\\t{x0:.6f}\\t{fx:.6f}\\t{dfx:.6f}\\t{x1:.6f}\")\n",
    "        \n",
    "        # if abs(x1 - x0) < epsilon: # para cuando la diferencia entre el de ahora y el anterior es poca, puede que no encuentre raiz por las formas de las funciones\n",
    "        if abs(f(x1)) < epsilon: # para cuando f(x) esta cerca de ser 0, puede que la funcion tenga una asintota y nunca toque y que el codigo lo tome como raiz\n",
    "            print(\"Raíz aproximada encontrada:\", x1)\n",
    "            return x1\n",
    "\n",
    "        x0 = x1\n",
    "    return x0\n",
    "\n",
    "\n",
    "x0 = -7  # Valor inicial\n",
    "epsilon = 0.0000001\n",
    "maxStep = 20\n",
    "\n",
    "raiz = newton(x0, epsilon, maxStep)\n",
    "if raiz is not None:\n",
    "    print(f\"\\nRaíz aproximada: {raiz}\")\n"
   ]
  },
  {
   "attachments": {
    "image.png": {
     "image/png": "[encoded data removed]"
    }
   },
   "cell_type": "markdown",
   "id": "faa2a911",
   "metadata": {},
   "source": [
    "![image.png](attachment:image.png)\n",
    "\n",
    "La de abajo usa un punto antes y un punto despues de x0, H seria el rango en el que buscas la derivada"
   ]
  },
  {
   "cell_type": "markdown",
   "id": "c92ddc80",
   "metadata": {},
   "source": [
    "4 - Indicar cómo se puede usar el método de Newton para calcular la función f(x) = ln x para x > 0, usando otras operaciones: +. -, *, / y exponencial. Discutir una posible implementación práctica de esto. "
   ]
  },
  {
   "cell_type": "code",
   "execution_count": null,
   "id": "8c3248eb",
   "metadata": {},
   "outputs": [],
   "source": []
  },
  {
   "attachments": {
    "image.png": {
     "image/png": "[encoded data removed]"
    }
   },
   "cell_type": "markdown",
   "id": "51b0702a",
   "metadata": {},
   "source": [
    "5 – Para cada una de las siguientes funciones, indicar alrededor de qué raíces el método de Newton converge cuadráticamente: \n",
    "\n",
    "![image.png](attachment:image.png)"
   ]
  },
  {
   "cell_type": "code",
   "execution_count": null,
   "id": "8fa3c5d2",
   "metadata": {},
   "outputs": [],
   "source": []
  },
  {
   "cell_type": "markdown",
   "id": "4ce66167",
   "metadata": {},
   "source": [
    "6 – Elegir 2 o 3 de las funciones del ejercicio anterior y resolver usando bisección de modo de obtener 3 decimales correctos. "
   ]
  },
  {
   "cell_type": "code",
   "execution_count": null,
   "id": "bb63790b",
   "metadata": {},
   "outputs": [],
   "source": []
  }
 ],
 "metadata": {
  "kernelspec": {
   "display_name": "Python 3",
   "language": "python",
   "name": "python3"
  },
  "language_info": {
   "codemirror_mode": {
    "name": "ipython",
    "version": 3
   },
   "file_extension": ".py",
   "mimetype": "text/x-python",
   "name": "python",
   "nbconvert_exporter": "python",
   "pygments_lexer": "ipython3",
   "version": "3.13.0"
  }
 },
 "nbformat": 4,
 "nbformat_minor": 5
}
