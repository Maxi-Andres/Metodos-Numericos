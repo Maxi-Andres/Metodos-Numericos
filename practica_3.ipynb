{
 "cells": [
  {
   "cell_type": "markdown",
   "id": "d763285e",
   "metadata": {},
   "source": [
    "## Práctica 3. Aproximación e interpolación. \n",
    "\n",
    "## Ejercicios introductorios "
   ]
  },
  {
   "attachments": {
    "image.png": {
     "image/png": "[encoded data removed]"
    }
   },
   "cell_type": "markdown",
   "id": "be67afee",
   "metadata": {},
   "source": [
    "I1) Calcular el polinomio interpolador de Lagrange para los siguientes datos, y evaluar el\n",
    "polinomio obtenido en x = 2, en x = 4 y en x = -1:\n",
    "![image.png](attachment:image.png)"
   ]
  },
  {
   "cell_type": "code",
   "execution_count": null,
   "id": "5c2fef8c",
   "metadata": {},
   "outputs": [],
   "source": []
  },
  {
   "attachments": {
    "image.png": {
     "image/png": "[encoded data removed]"
    }
   },
   "cell_type": "markdown",
   "id": "4f768307",
   "metadata": {},
   "source": [
    "I2) Los siguientes valores corresponden a la altura h de un cohete experimental a lo largo del\n",
    "tiempo. Calcular la trayectoria de este cohete, suponiendo que es polinomial en el tiempo t.\n",
    "Dicho de otro modo, calcular el polinomio interpolador de Lagrange para los siguientes datos.\n",
    "Evaluar luego el polinomio obtenido en t = 0, en t = 3 y en\n",
    "t = 6 para estimar la altura en esos instantes: \n",
    "\n",
    "![image.png](attachment:image.png)"
   ]
  },
  {
   "cell_type": "code",
   "execution_count": null,
   "id": "7fc5ea9c",
   "metadata": {},
   "outputs": [],
   "source": []
  },
  {
   "cell_type": "markdown",
   "id": "ba9493f3",
   "metadata": {},
   "source": [
    "I3)\n",
    "a) Elegir alguno de los dos ejercicios anteriores y para esos mismos datos utilizar el método\n",
    "de Newton para hallar un polinomio interpolador de grado mínimo.\n",
    "Comprobar que el polinomio resultante es el mismo ya calculado.\n",
    "\n",
    "b) Elegir alguno de los dos ejercicios anteriores y utilizar el método de diferencias divididas\n",
    "para hallar el polinomio interpolador de grado mínimo.\n",
    "Comprobar que el polinomio resultante es el mismo ya calculado. "
   ]
  },
  {
   "cell_type": "code",
   "execution_count": null,
   "id": "7b3d8cd1",
   "metadata": {},
   "outputs": [],
   "source": []
  },
  {
   "attachments": {
    "image.png": {
     "image/png": "[encoded data removed]"
    }
   },
   "cell_type": "markdown",
   "id": "da1038c8",
   "metadata": {},
   "source": [
    "I4) ¿Cuál es el polinomio interpolador de Lagrange para los datos siguientes? (Consejo: ¡No\n",
    "hace falta hacer cuentas!) \n",
    "\n",
    "![image.png](attachment:image.png)"
   ]
  },
  {
   "cell_type": "code",
   "execution_count": null,
   "id": "45c6a459",
   "metadata": {},
   "outputs": [],
   "source": []
  },
  {
   "cell_type": "markdown",
   "id": "256e25e4",
   "metadata": {},
   "source": [
    "I5) Verificar cómo tanto el método de Lagrange como el de Newton generalizan la propiedad\n",
    "euclidiana de que por dos puntos distintos pasa siempre una (única) recta. "
   ]
  },
  {
   "cell_type": "code",
   "execution_count": null,
   "id": "13fcc10e",
   "metadata": {},
   "outputs": [],
   "source": []
  },
  {
   "cell_type": "markdown",
   "id": "9aefec8f",
   "metadata": {},
   "source": [
    "## Ejercicios básicos \n"
   ]
  },
  {
   "cell_type": "markdown",
   "id": "2d413fdd",
   "metadata": {},
   "source": [
    "B1)\n",
    "a) Explicar por qué dados 3 puntos no alineados de R2\n",
    ", existe una única parábola que pasa\n",
    "por ellos.\n",
    "\n",
    "b) Si los 3 puntos estuviesen alineados, ¿necesariamente existirá tal parábola?"
   ]
  },
  {
   "cell_type": "code",
   "execution_count": null,
   "id": "9ee44a90",
   "metadata": {},
   "outputs": [],
   "source": []
  },
  {
   "cell_type": "markdown",
   "id": "451dbddd",
   "metadata": {},
   "source": [
    "B2) Para encontrar un polinomio que pase por n puntos distintos dados de R2\n",
    ", ¿cuál es el\n",
    "mínimo grado con que puede resultar el polinomio interpolador de Lagrange, y cuál el\n",
    "máximo? ¿Qué condición geométrica de los datos implicará que este polinomio resulte de\n",
    "grado ≤ 1?"
   ]
  },
  {
   "cell_type": "code",
   "execution_count": null,
   "id": "6cacf30f",
   "metadata": {},
   "outputs": [],
   "source": []
  },
  {
   "cell_type": "markdown",
   "id": "1f1c34e4",
   "metadata": {},
   "source": []
  }
 ],
 "metadata": {
  "kernelspec": {
   "display_name": "Python 3",
   "language": "python",
   "name": "python3"
  },
  "language_info": {
   "name": "python",
   "version": "3.13.0"
  }
 },
 "nbformat": 4,
 "nbformat_minor": 5
}
